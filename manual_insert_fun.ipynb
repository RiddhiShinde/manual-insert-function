{
 "cells": [
  {
   "cell_type": "markdown",
   "id": "1cc73da3-d02a-40f6-bb02-45c35d68d23c",
   "metadata": {},
   "source": [
    "basically insert function takes the user input and insert it at the user given position"
   ]
  },
  {
   "cell_type": "code",
   "execution_count": 1,
   "id": "7688988b-3767-473b-99bc-491d94b89406",
   "metadata": {},
   "outputs": [],
   "source": [
    " mylist=['ford', 'sanny', 'MG', 'BMW', 'TATA']"
   ]
  },
  {
   "cell_type": "code",
   "execution_count": 2,
   "id": "3974f786-0fd5-497d-8171-97742f7015b9",
   "metadata": {},
   "outputs": [],
   "source": [
    "mylist.insert(2,'suzuki')"
   ]
  },
  {
   "cell_type": "code",
   "execution_count": 3,
   "id": "ec7f8987-497e-4457-8195-dd36d4e190a2",
   "metadata": {},
   "outputs": [
    {
     "data": {
      "text/plain": [
       "['ford',\n",
       " 'sanny',\n",
       " 'suzuki',\n",
       " 'MG',\n",
       " 'BMW',\n",
       " 'TATA',\n",
       " 'KIA',\n",
       " 'JAGUAR',\n",
       " 'AUDI',\n",
       " 'bently',\n",
       " 'Renault',\n",
       " 'Porsche',\n",
       " 'hundai']"
      ]
     },
     "execution_count": 3,
     "metadata": {},
     "output_type": "execute_result"
    }
   ],
   "source": [
    "mylist"
   ]
  },
  {
   "cell_type": "code",
   "execution_count": null,
   "id": "11223e5a-9205-4576-b824-2b869f1902ca",
   "metadata": {},
   "outputs": [],
   "source": [
    "mylist"
   ]
  },
  {
   "cell_type": "code",
   "execution_count": 2,
   "id": "776596f9-88f5-4bf7-ac67-e00530c184b3",
   "metadata": {},
   "outputs": [],
   "source": [
    "mylist=['ford', 'sanny', 'MG', 'BMW', 'TATA']"
   ]
  },
  {
   "cell_type": "code",
   "execution_count": 5,
   "id": "595a8086-77b9-43b4-b742-febea27a2900",
   "metadata": {},
   "outputs": [
    {
     "name": "stdin",
     "output_type": "stream",
     "text": [
      "enter element to insert kia\n",
      "enter position 6\n"
     ]
    },
    {
     "name": "stdout",
     "output_type": "stream",
     "text": [
      "['ford', 'sanny', 'MG', 'BMW', 'toyota', 'TATA', 'kia']\n"
     ]
    }
   ],
   "source": [
    "element=input((\"enter element to insert\"))\n",
    "pos= int(input(\"enter position\"))  \n",
    "\n",
    "if pos>= len(mylist):\n",
    "    mylist.append(element)\n",
    "else: \n",
    "    for i in range(len(mylist),pos,-1):\n",
    "        if i ==len(mylist):\n",
    "            mylist.append(0)\n",
    "        \n",
    "        mylist[i] = mylist[i-1]\n",
    "    mylist[pos]=element    \n",
    "print(mylist)"
   ]
  },
  {
   "cell_type": "code",
   "execution_count": 3,
   "id": "4a86d6df-8b95-4c11-8660-776e3da6728a",
   "metadata": {},
   "outputs": [
    {
     "data": {
      "text/plain": [
       "['ford', 'sanny', 'MG', 'BMW', 'TATA']"
      ]
     },
     "execution_count": 3,
     "metadata": {},
     "output_type": "execute_result"
    }
   ],
   "source": [
    "mylist"
   ]
  },
  {
   "cell_type": "code",
   "execution_count": null,
   "id": "d2087759-1b85-4396-be79-de6e28d6406c",
   "metadata": {},
   "outputs": [],
   "source": []
  }
 ],
 "metadata": {
  "kernelspec": {
   "display_name": "Python 3 (ipykernel)",
   "language": "python",
   "name": "python3"
  },
  "language_info": {
   "codemirror_mode": {
    "name": "ipython",
    "version": 3
   },
   "file_extension": ".py",
   "mimetype": "text/x-python",
   "name": "python",
   "nbconvert_exporter": "python",
   "pygments_lexer": "ipython3",
   "version": "3.11.5"
  }
 },
 "nbformat": 4,
 "nbformat_minor": 5
}
